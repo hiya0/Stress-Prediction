{
 "cells": [
  {
   "cell_type": "code",
   "execution_count": 1,
   "metadata": {},
   "outputs": [],
   "source": [
    "import pandas as pd"
   ]
  },
  {
   "cell_type": "code",
   "execution_count": 2,
   "metadata": {},
   "outputs": [],
   "source": [
    "dataset=pd.read_csv('stress.csv')"
   ]
  },
  {
   "cell_type": "code",
   "execution_count": 3,
   "metadata": {},
   "outputs": [
    {
     "data": {
      "text/plain": [
       "Index(['Timestamp', 'What are your college/work hours?',\n",
       "       'How satisfied are you with your marks/salary?',\n",
       "       'How stressed are you?', 'What are your Sleep Hours?',\n",
       "       'What Percentage would you relate your latest marks to?'],\n",
       "      dtype='object')"
      ]
     },
     "execution_count": 3,
     "metadata": {},
     "output_type": "execute_result"
    }
   ],
   "source": [
    "dataset.columns"
   ]
  },
  {
   "cell_type": "code",
   "execution_count": 4,
   "metadata": {},
   "outputs": [
    {
     "data": {
      "text/html": [
       "<div>\n",
       "<style scoped>\n",
       "    .dataframe tbody tr th:only-of-type {\n",
       "        vertical-align: middle;\n",
       "    }\n",
       "\n",
       "    .dataframe tbody tr th {\n",
       "        vertical-align: top;\n",
       "    }\n",
       "\n",
       "    .dataframe thead th {\n",
       "        text-align: right;\n",
       "    }\n",
       "</style>\n",
       "<table border=\"1\" class=\"dataframe\">\n",
       "  <thead>\n",
       "    <tr style=\"text-align: right;\">\n",
       "      <th></th>\n",
       "      <th>What are your college/work hours?</th>\n",
       "      <th>How satisfied are you with your marks/salary?</th>\n",
       "      <th>How stressed are you?</th>\n",
       "      <th>What are your Sleep Hours?</th>\n",
       "    </tr>\n",
       "  </thead>\n",
       "  <tbody>\n",
       "    <tr>\n",
       "      <th>What are your college/work hours?</th>\n",
       "      <td>1.000000</td>\n",
       "      <td>0.110328</td>\n",
       "      <td>0.151189</td>\n",
       "      <td>-0.211469</td>\n",
       "    </tr>\n",
       "    <tr>\n",
       "      <th>How satisfied are you with your marks/salary?</th>\n",
       "      <td>0.110328</td>\n",
       "      <td>1.000000</td>\n",
       "      <td>-0.036344</td>\n",
       "      <td>-0.103258</td>\n",
       "    </tr>\n",
       "    <tr>\n",
       "      <th>How stressed are you?</th>\n",
       "      <td>0.151189</td>\n",
       "      <td>-0.036344</td>\n",
       "      <td>1.000000</td>\n",
       "      <td>-0.348307</td>\n",
       "    </tr>\n",
       "    <tr>\n",
       "      <th>What are your Sleep Hours?</th>\n",
       "      <td>-0.211469</td>\n",
       "      <td>-0.103258</td>\n",
       "      <td>-0.348307</td>\n",
       "      <td>1.000000</td>\n",
       "    </tr>\n",
       "  </tbody>\n",
       "</table>\n",
       "</div>"
      ],
      "text/plain": [
       "                                               What are your college/work hours?  \\\n",
       "What are your college/work hours?                                       1.000000   \n",
       "How satisfied are you with your marks/salary?                           0.110328   \n",
       "How stressed are you?                                                   0.151189   \n",
       "What are your Sleep Hours?                                             -0.211469   \n",
       "\n",
       "                                               How satisfied are you with your marks/salary?  \\\n",
       "What are your college/work hours?                                                   0.110328   \n",
       "How satisfied are you with your marks/salary?                                       1.000000   \n",
       "How stressed are you?                                                              -0.036344   \n",
       "What are your Sleep Hours?                                                         -0.103258   \n",
       "\n",
       "                                               How stressed are you?  \\\n",
       "What are your college/work hours?                           0.151189   \n",
       "How satisfied are you with your marks/salary?              -0.036344   \n",
       "How stressed are you?                                       1.000000   \n",
       "What are your Sleep Hours?                                 -0.348307   \n",
       "\n",
       "                                               What are your Sleep Hours?  \n",
       "What are your college/work hours?                               -0.211469  \n",
       "How satisfied are you with your marks/salary?                   -0.103258  \n",
       "How stressed are you?                                           -0.348307  \n",
       "What are your Sleep Hours?                                       1.000000  "
      ]
     },
     "execution_count": 4,
     "metadata": {},
     "output_type": "execute_result"
    }
   ],
   "source": [
    "dataset.corr()"
   ]
  },
  {
   "cell_type": "code",
   "execution_count": 5,
   "metadata": {},
   "outputs": [
    {
     "data": {
      "text/html": [
       "<div>\n",
       "<style scoped>\n",
       "    .dataframe tbody tr th:only-of-type {\n",
       "        vertical-align: middle;\n",
       "    }\n",
       "\n",
       "    .dataframe tbody tr th {\n",
       "        vertical-align: top;\n",
       "    }\n",
       "\n",
       "    .dataframe thead th {\n",
       "        text-align: right;\n",
       "    }\n",
       "</style>\n",
       "<table border=\"1\" class=\"dataframe\">\n",
       "  <thead>\n",
       "    <tr style=\"text-align: right;\">\n",
       "      <th></th>\n",
       "      <th>Timestamp</th>\n",
       "      <th>What are your college/work hours?</th>\n",
       "      <th>How satisfied are you with your marks/salary?</th>\n",
       "      <th>How stressed are you?</th>\n",
       "      <th>What are your Sleep Hours?</th>\n",
       "      <th>What Percentage would you relate your latest marks to?</th>\n",
       "    </tr>\n",
       "  </thead>\n",
       "  <tbody>\n",
       "    <tr>\n",
       "      <th>0</th>\n",
       "      <td>4/13/2020 14:54</td>\n",
       "      <td>7</td>\n",
       "      <td>3</td>\n",
       "      <td>9</td>\n",
       "      <td>2</td>\n",
       "      <td>60%-80%</td>\n",
       "    </tr>\n",
       "    <tr>\n",
       "      <th>1</th>\n",
       "      <td>4/13/2020 14:54</td>\n",
       "      <td>10</td>\n",
       "      <td>3</td>\n",
       "      <td>5</td>\n",
       "      <td>3</td>\n",
       "      <td>60%-80%</td>\n",
       "    </tr>\n",
       "    <tr>\n",
       "      <th>2</th>\n",
       "      <td>4/13/2020 14:55</td>\n",
       "      <td>8</td>\n",
       "      <td>3</td>\n",
       "      <td>9</td>\n",
       "      <td>3</td>\n",
       "      <td>60%-80%</td>\n",
       "    </tr>\n",
       "    <tr>\n",
       "      <th>3</th>\n",
       "      <td>4/13/2020 14:55</td>\n",
       "      <td>8</td>\n",
       "      <td>4</td>\n",
       "      <td>9</td>\n",
       "      <td>2</td>\n",
       "      <td>80%-100%</td>\n",
       "    </tr>\n",
       "    <tr>\n",
       "      <th>4</th>\n",
       "      <td>4/13/2020 14:56</td>\n",
       "      <td>8</td>\n",
       "      <td>5</td>\n",
       "      <td>8</td>\n",
       "      <td>3</td>\n",
       "      <td>80%-100%</td>\n",
       "    </tr>\n",
       "  </tbody>\n",
       "</table>\n",
       "</div>"
      ],
      "text/plain": [
       "         Timestamp  What are your college/work hours?  \\\n",
       "0  4/13/2020 14:54                                  7   \n",
       "1  4/13/2020 14:54                                 10   \n",
       "2  4/13/2020 14:55                                  8   \n",
       "3  4/13/2020 14:55                                  8   \n",
       "4  4/13/2020 14:56                                  8   \n",
       "\n",
       "   How satisfied are you with your marks/salary?  How stressed are you?  \\\n",
       "0                                              3                      9   \n",
       "1                                              3                      5   \n",
       "2                                              3                      9   \n",
       "3                                              4                      9   \n",
       "4                                              5                      8   \n",
       "\n",
       "   What are your Sleep Hours?  \\\n",
       "0                           2   \n",
       "1                           3   \n",
       "2                           3   \n",
       "3                           2   \n",
       "4                           3   \n",
       "\n",
       "  What Percentage would you relate your latest marks to?  \n",
       "0                                            60%-80%      \n",
       "1                                            60%-80%      \n",
       "2                                            60%-80%      \n",
       "3                                           80%-100%      \n",
       "4                                           80%-100%      "
      ]
     },
     "execution_count": 5,
     "metadata": {},
     "output_type": "execute_result"
    }
   ],
   "source": [
    "dataset.head()"
   ]
  },
  {
   "cell_type": "code",
   "execution_count": 6,
   "metadata": {},
   "outputs": [],
   "source": [
    "y=dataset['How stressed are you?']"
   ]
  },
  {
   "cell_type": "code",
   "execution_count": 7,
   "metadata": {},
   "outputs": [],
   "source": [
    "X=dataset[['What are your college/work hours?','What are your Sleep Hours?','How satisfied are you with your marks/salary?']]"
   ]
  },
  {
   "cell_type": "code",
   "execution_count": 8,
   "metadata": {},
   "outputs": [
    {
     "data": {
      "text/plain": [
       "0      9\n",
       "1      5\n",
       "2      9\n",
       "3      9\n",
       "4      8\n",
       "5      5\n",
       "6      4\n",
       "7      8\n",
       "8      8\n",
       "9     10\n",
       "10     7\n",
       "11     7\n",
       "12     9\n",
       "13     5\n",
       "14     6\n",
       "15     8\n",
       "16     3\n",
       "17     8\n",
       "18    10\n",
       "19     9\n",
       "20     7\n",
       "21     7\n",
       "22     7\n",
       "23     4\n",
       "24     4\n",
       "25     7\n",
       "26     7\n",
       "27     4\n",
       "28     3\n",
       "29     3\n",
       "30     7\n",
       "31     5\n",
       "32     5\n",
       "33     5\n",
       "34     8\n",
       "35     6\n",
       "36     9\n",
       "37     8\n",
       "Name: How stressed are you?, dtype: int64"
      ]
     },
     "execution_count": 8,
     "metadata": {},
     "output_type": "execute_result"
    }
   ],
   "source": [
    "y"
   ]
  },
  {
   "cell_type": "code",
   "execution_count": 9,
   "metadata": {},
   "outputs": [],
   "source": [
    "from sklearn.model_selection import train_test_split"
   ]
  },
  {
   "cell_type": "code",
   "execution_count": 10,
   "metadata": {},
   "outputs": [],
   "source": [
    "X_train,X_test,y_train,y_test=train_test_split(X,y,test_size=0.30,random_state=42)"
   ]
  },
  {
   "cell_type": "code",
   "execution_count": 11,
   "metadata": {},
   "outputs": [],
   "source": [
    "from sklearn.linear_model import LinearRegression"
   ]
  },
  {
   "cell_type": "code",
   "execution_count": 12,
   "metadata": {},
   "outputs": [],
   "source": [
    "model=LinearRegression()"
   ]
  },
  {
   "cell_type": "code",
   "execution_count": 13,
   "metadata": {},
   "outputs": [
    {
     "data": {
      "text/plain": [
       "LinearRegression(copy_X=True, fit_intercept=True, n_jobs=None, normalize=False)"
      ]
     },
     "execution_count": 13,
     "metadata": {},
     "output_type": "execute_result"
    }
   ],
   "source": [
    "model.fit(X_train,y_train)"
   ]
  },
  {
   "cell_type": "code",
   "execution_count": 23,
   "metadata": {},
   "outputs": [
    {
     "data": {
      "text/plain": [
       "array([6.40040896])"
      ]
     },
     "execution_count": 23,
     "metadata": {},
     "output_type": "execute_result"
    }
   ],
   "source": [
    "model.predict([[6,3,5]])"
   ]
  },
  {
   "cell_type": "code",
   "execution_count": 19,
   "metadata": {},
   "outputs": [
    {
     "data": {
      "text/plain": [
       "33    5\n",
       "36    9\n",
       "4     8\n",
       "13    5\n",
       "30    7\n",
       "26    7\n",
       "6     4\n",
       "27    4\n",
       "24    4\n",
       "15    8\n",
       "17    8\n",
       "8     8\n",
       "Name: How stressed are you?, dtype: int64"
      ]
     },
     "execution_count": 19,
     "metadata": {},
     "output_type": "execute_result"
    }
   ],
   "source": [
    "y_test"
   ]
  },
  {
   "cell_type": "code",
   "execution_count": 20,
   "metadata": {},
   "outputs": [],
   "source": [
    "from sklearn import metrics"
   ]
  },
  {
   "cell_type": "code",
   "execution_count": 21,
   "metadata": {},
   "outputs": [
    {
     "data": {
      "text/plain": [
       "3.4762403553893466"
      ]
     },
     "execution_count": 21,
     "metadata": {},
     "output_type": "execute_result"
    }
   ],
   "source": [
    "metrics.mean_squared_error(y_test,y_pred)"
   ]
  },
  {
   "cell_type": "code",
   "execution_count": null,
   "metadata": {},
   "outputs": [],
   "source": []
  }
 ],
 "metadata": {
  "kernelspec": {
   "display_name": "Python 3",
   "language": "python",
   "name": "python3"
  },
  "language_info": {
   "codemirror_mode": {
    "name": "ipython",
    "version": 3
   },
   "file_extension": ".py",
   "mimetype": "text/x-python",
   "name": "python",
   "nbconvert_exporter": "python",
   "pygments_lexer": "ipython3",
   "version": "3.7.7"
  }
 },
 "nbformat": 4,
 "nbformat_minor": 4
}
